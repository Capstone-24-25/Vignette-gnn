{
 "cells": [
  {
   "cell_type": "markdown",
   "metadata": {},
   "source": [
    "# Introduction\n",
    "\n",
    "In this vignette, we touch on the topic of cheminformatics and bioinformatics, aiming to predict the solubility of molecules using deep learning. The neural network we will be working on is called **Graph Neural Network**. It serves as a powerful tool for learning from graph-structured data, which is perfectly suitable for the molecular data which atoms and bonds can be represented as a graph.\n",
    "\n",
    "The vignette is divided into three sections. In the first section, we will introduce the graph data structure. The second part will be about the data. In the last section, we will build a graph neural network to predict the solubility of molecules."
   ]
  },
  {
   "cell_type": "markdown",
   "metadata": {},
   "source": [
    "## Graph Data Structure\n",
    "\n",
    "> A graph data structure consists of a finite (and possibly mutable) set of vertices (also called nodes or points), together with a set of unordered pairs of these vertices for an undirected graph or a set of ordered pairs for a directed graph. [1](https://en.wikipedia.org/wiki/Graph_(abstract_data_type))"
   ]
  },
  {
   "cell_type": "markdown",
   "metadata": {},
   "source": [
    "### Implement a Graph Data Structure"
   ]
  },
  {
   "cell_type": "markdown",
   "metadata": {},
   "source": [
    "![slide_1](./img/slides/slide_01.jpg)"
   ]
  },
  {
   "cell_type": "markdown",
   "metadata": {},
   "source": [
    "Here is a short demo to implement an undirected graph data structure in Python using adjacency list.\n",
    "\n",
    "```python\n",
    "class vertex:\n",
    "    def __init__(self, value):\n",
    "        self.value = value # info the vertex stores\n",
    "        self.index = None # index of the vertex in the graph\n",
    "        self.edges = [] # list of edges connected to the vertex\n",
    "\n",
    "class graph:\n",
    "    def __init__(self):\n",
    "        self.vertices = [] # list of vertices in the graph\n",
    "        self.adjacency_list = {} # dictionary to store the vertices and edges\n",
    "    \n",
    "    def add_vertex(self, value):\n",
    "        v = vertex(value)\n",
    "        v.index = len(self.vertices) # assign index to the vertex\n",
    "        self.vertices.append(v)\n",
    "        self.adjacency_list[v.index] = [] # record the edges connected to the vertex\n",
    "        return v\n",
    "    \n",
    "    def add_edge(self, v1, v2):\n",
    "        self.adjacency_list[v1.index].append(v2.index) # v1 connects to v2\n",
    "        self.adjacency_list[v2.index].append(v1.index) # v2 connects to v1\n",
    "        v1.edges.append(v2)\n",
    "        v2.edges.append(v1)\n",
    "\n",
    "```\n",
    "\n",
    "Usage:\n",
    "    \n",
    "```python\n",
    "g = graph()\n",
    "v1 = g.add_vertex(1)\n",
    "v2 = g.add_vertex(2)\n",
    "v3 = g.add_vertex(3)\n",
    "g.add_edge(v1, v2)\n",
    "g.add_edge(v2, v3)\n",
    "```\n"
   ]
  },
  {
   "cell_type": "markdown",
   "metadata": {},
   "source": [
    "### Your Task:\n",
    "Implement a **directed** graph data structure in Python using adjacency matrix."
   ]
  },
  {
   "cell_type": "markdown",
   "metadata": {},
   "source": [
    "### What type of data can be represented as a graph?"
   ]
  },
  {
   "cell_type": "markdown",
   "metadata": {},
   "source": [
    "Graph data structure can be used to represent most of data, like images and texts. One of the key features of graph data structure is that it can represent the relationship between data points.\n",
    "\n",
    "- Images: Each pixel can be a node, and each node connects to all its neighbors.\n",
    "\n",
    "- Texts: Each word can be a node, and each node connects to the words that appear in the same sentence."
   ]
  },
  {
   "cell_type": "markdown",
   "metadata": {},
   "source": [
    "![slide_02](./img/slides/slide_02.jpg)"
   ]
  },
  {
   "cell_type": "markdown",
   "metadata": {},
   "source": [
    "Besides of texts and images. Molecules can be naturally represented as a graph, with atoms as nodes and bonds as edges."
   ]
  },
  {
   "cell_type": "markdown",
   "metadata": {},
   "source": [
    "![slide_03](./img/slides/slide_03.jpg)"
   ]
  },
  {
   "cell_type": "markdown",
   "metadata": {},
   "source": [
    "## Data\n"
   ]
  },
  {
   "cell_type": "markdown",
   "metadata": {},
   "source": [
    "\n",
    "## Data preview and preparation\n",
    "\n",
    "To predict the solubility of molecules, we will use the **ESOL dataset** that is built in the **torch_geometric** packages and `datasets` modules. The dataset contains 1,128 molecules and their solubility in water. We will use **RDKit** to process the molecules.\n",
    "\n",
    "**RDKit** is an open-source toolkit for cheminformatics. It provides a wide range of functions for processing molecules, such as reading and writing molecules, calculating molecular descriptors, and generating molecular fingerprints. Specifically, the `MoleculeNet` class in `torch_geometric.datasets` module utilized `from_smiles` to convert the SMILES representation of molecules to graph data structure.\n",
    "\n",
    "> SMILES is a specification in the form of a line notation for describing the structure of chemical species using short ASCII strings [2](https://en.wikipedia.org/wiki/Simplified_Molecular_Input_Line_Entry_System)\n",
    "\n",
    "For example, acetylsalicylic acid (aspirin) can be represented as `CC(=O)Oc1ccccc1C(=O)O`, and epinephrine can be represented as `CNC[C@H](O)c1ccc(O)c(O)c1`. [3](https://www.researchgate.net/figure/Example-SMILES-notations-for-various-molecules_fig2_339349026)"
   ]
  },
  {
   "cell_type": "markdown",
   "metadata": {},
   "source": [
    "![SMILES](./img/SMILES.jpg)"
   ]
  },
  {
   "cell_type": "markdown",
   "metadata": {},
   "source": [
    "ESOL provides the SMILES representation of a molecule and uses `from_smiles` to return a `Data` instance, which contains the following essentiall attribute:\n",
    "\n",
    "- `x`: Node feature matrix with shape `[num_nodes, 9]`, where the `num_nodes` is the number of atoms in the molecule and 9 is the number of features per atom. These features that are stored in nodes are `atomic_num`, `chirality`, `degree`, `formal_charge`, `hybridization`, `is_aromatic`, `is_in_ring`, `num_radical_electrons`, and `num_hs`.\n",
    "\n",
    "- `y`: Target to predict, which is `solubility` here.\n",
    "\n",
    "- `edge_att`: Edge feature matrix with shape `[num_edges, 3]`, where the `num_edges` is the number of bonds in the molecule and 3 is the number of features that are stored in each bond. These features are `bond_type`, `is_conjugated`, and `stereo`.\n",
    "\n",
    "- `edge_index`: Graph connectivity in COO format with shape `[num_edges, 2]`, where the first element in the first row is the source node and the first element in the second row is the target node."
   ]
  },
  {
   "cell_type": "markdown",
   "metadata": {},
   "source": [
    "![slide_04](./img/slides/slide_04.jpg)"
   ]
  },
  {
   "cell_type": "markdown",
   "metadata": {},
   "source": [
    "### Code Demo"
   ]
  },
  {
   "cell_type": "code",
   "execution_count": 2,
   "metadata": {
    "scrolled": true
   },
   "outputs": [
    {
     "data": {
      "text/plain": [
       "ESOL(1128)"
      ]
     },
     "execution_count": 2,
     "metadata": {},
     "output_type": "execute_result"
    }
   ],
   "source": [
    "# use rdkit to generate molecule features while importing dataset\n",
    "import rdkit\n",
    "from torch_geometric.datasets import MoleculeNet\n",
    "\n",
    "# Load and connect the ESOL dataset\n",
    "data = MoleculeNet(root='.', name=\"ESOL\")\n",
    "data"
   ]
  },
  {
   "cell_type": "code",
   "execution_count": 3,
   "metadata": {},
   "outputs": [
    {
     "name": "stdout",
     "output_type": "stream",
     "text": [
      "Dataset type:  <class 'torch_geometric.datasets.molecule_net.MoleculeNet'>\n",
      "Dataset features:  9\n",
      "Dataset target:  1\n",
      "Dataset length:  1128\n",
      "Dataset sample:  Data(x=[32, 9], edge_index=[2, 68], edge_attr=[68, 3], smiles='OCC3OC(OCC2OC(OC(C#N)c1ccccc1)C(O)C(O)C2O)C(O)C(O)C3O ', y=[1, 1])\n",
      "Sample nodes:  32\n",
      "Sample edges:  68\n"
     ]
    }
   ],
   "source": [
    "# Investigating the dataset\n",
    "print(\"Dataset type: \", type(data))\n",
    "print(\"Dataset features: \", data.num_features)\n",
    "print(\"Dataset target: \", data[0].y.shape[0])\n",
    "print(\"Dataset length: \", data.len())\n",
    "print(\"Dataset sample: \", data[0])\n",
    "print(\"Sample nodes: \", data[0].num_nodes)\n",
    "print(\"Sample edges: \", data[0].num_edges)"
   ]
  },
  {
   "cell_type": "markdown",
   "metadata": {},
   "source": [
    "Each node represents an atom with descriptive features such as atomic number, hybridization state, and charge. The node feature matrix for a graph has a shape [num_nodes, num_features], where each row is a node's feature vector."
   ]
  },
  {
   "cell_type": "code",
   "execution_count": 44,
   "metadata": {},
   "outputs": [
    {
     "data": {
      "text/plain": [
       "tensor([[8, 0, 2, 5, 1, 0, 4, 0, 0],\n",
       "        [6, 0, 4, 5, 2, 0, 4, 0, 0],\n",
       "        [6, 0, 4, 5, 1, 0, 4, 0, 1],\n",
       "        [8, 0, 2, 5, 0, 0, 4, 0, 1],\n",
       "        [6, 0, 4, 5, 1, 0, 4, 0, 1],\n",
       "        [8, 0, 2, 5, 0, 0, 4, 0, 0],\n",
       "        [6, 0, 4, 5, 2, 0, 4, 0, 0],\n",
       "        [6, 0, 4, 5, 1, 0, 4, 0, 1],\n",
       "        [8, 0, 2, 5, 0, 0, 4, 0, 1],\n",
       "        [6, 0, 4, 5, 1, 0, 4, 0, 1],\n",
       "        [8, 0, 2, 5, 0, 0, 4, 0, 0],\n",
       "        [6, 0, 4, 5, 1, 0, 4, 0, 0],\n",
       "        [6, 0, 2, 5, 0, 0, 2, 0, 0],\n",
       "        [7, 0, 1, 5, 0, 0, 2, 0, 0],\n",
       "        [6, 0, 3, 5, 0, 0, 3, 1, 1],\n",
       "        [6, 0, 3, 5, 1, 0, 3, 1, 1],\n",
       "        [6, 0, 3, 5, 1, 0, 3, 1, 1],\n",
       "        [6, 0, 3, 5, 1, 0, 3, 1, 1],\n",
       "        [6, 0, 3, 5, 1, 0, 3, 1, 1],\n",
       "        [6, 0, 3, 5, 1, 0, 3, 1, 1],\n",
       "        [6, 0, 4, 5, 1, 0, 4, 0, 1],\n",
       "        [8, 0, 2, 5, 1, 0, 4, 0, 0],\n",
       "        [6, 0, 4, 5, 1, 0, 4, 0, 1],\n",
       "        [8, 0, 2, 5, 1, 0, 4, 0, 0],\n",
       "        [6, 0, 4, 5, 1, 0, 4, 0, 1],\n",
       "        [8, 0, 2, 5, 1, 0, 4, 0, 0],\n",
       "        [6, 0, 4, 5, 1, 0, 4, 0, 1],\n",
       "        [8, 0, 2, 5, 1, 0, 4, 0, 0],\n",
       "        [6, 0, 4, 5, 1, 0, 4, 0, 1],\n",
       "        [8, 0, 2, 5, 1, 0, 4, 0, 0],\n",
       "        [6, 0, 4, 5, 1, 0, 4, 0, 1],\n",
       "        [8, 0, 2, 5, 1, 0, 4, 0, 0]])"
      ]
     },
     "execution_count": 44,
     "metadata": {},
     "output_type": "execute_result"
    }
   ],
   "source": [
    "# Investigating the features\n",
    "# Shape: [num_nodes, num_node_features = 9]\n",
    "data[0].x"
   ]
  },
  {
   "cell_type": "markdown",
   "metadata": {},
   "source": [
    "Edges represent bonds information between atoms, stored efficiently in sparse COO format."
   ]
  },
  {
   "cell_type": "code",
   "execution_count": 68,
   "metadata": {},
   "outputs": [
    {
     "data": {
      "text/plain": [
       "tensor([[ 1,  0,  0],\n",
       "        [ 1,  0,  0],\n",
       "        [ 1,  0,  0],\n",
       "        [ 1,  0,  0],\n",
       "        [ 1,  0,  0],\n",
       "        [ 1,  0,  0],\n",
       "        [ 1,  0,  0],\n",
       "        [ 1,  0,  0],\n",
       "        [ 1,  0,  0],\n",
       "        [ 1,  0,  0],\n",
       "        [ 1,  0,  0],\n",
       "        [ 1,  0,  0],\n",
       "        [ 1,  0,  0],\n",
       "        [ 1,  0,  0],\n",
       "        [ 1,  0,  0],\n",
       "        [ 1,  0,  0],\n",
       "        [ 1,  0,  0],\n",
       "        [ 1,  0,  0],\n",
       "        [ 1,  0,  0],\n",
       "        [ 1,  0,  0],\n",
       "        [ 1,  0,  0],\n",
       "        [ 1,  0,  0],\n",
       "        [ 1,  0,  0],\n",
       "        [ 1,  0,  0],\n",
       "        [ 1,  0,  0],\n",
       "        [ 1,  0,  0],\n",
       "        [ 1,  0,  0],\n",
       "        [ 1,  0,  0],\n",
       "        [ 1,  0,  0],\n",
       "        [ 3,  0,  0],\n",
       "        [ 3,  0,  0],\n",
       "        [ 1,  0,  0],\n",
       "        [12,  0,  1],\n",
       "        [12,  0,  1],\n",
       "        [12,  0,  1],\n",
       "        [12,  0,  1],\n",
       "        [12,  0,  1],\n",
       "        [12,  0,  1],\n",
       "        [12,  0,  1],\n",
       "        [12,  0,  1],\n",
       "        [12,  0,  1],\n",
       "        [12,  0,  1],\n",
       "        [12,  0,  1],\n",
       "        [12,  0,  1],\n",
       "        [ 1,  0,  0],\n",
       "        [ 1,  0,  0],\n",
       "        [ 1,  0,  0],\n",
       "        [ 1,  0,  0],\n",
       "        [ 1,  0,  0],\n",
       "        [ 1,  0,  0],\n",
       "        [ 1,  0,  0],\n",
       "        [ 1,  0,  0],\n",
       "        [ 1,  0,  0],\n",
       "        [ 1,  0,  0],\n",
       "        [ 1,  0,  0],\n",
       "        [ 1,  0,  0],\n",
       "        [ 1,  0,  0],\n",
       "        [ 1,  0,  0],\n",
       "        [ 1,  0,  0],\n",
       "        [ 1,  0,  0],\n",
       "        [ 1,  0,  0],\n",
       "        [ 1,  0,  0],\n",
       "        [ 1,  0,  0],\n",
       "        [ 1,  0,  0],\n",
       "        [ 1,  0,  0],\n",
       "        [ 1,  0,  0],\n",
       "        [ 1,  0,  0],\n",
       "        [ 1,  0,  0]])"
      ]
     },
     "execution_count": 68,
     "metadata": {},
     "output_type": "execute_result"
    }
   ],
   "source": [
    "# Shape: [num_edges, edge_features = 3]\n",
    "data[0].edge_attr"
   ]
  },
  {
   "cell_type": "markdown",
   "metadata": {},
   "source": [
    " Each edge is a pair of connected nodes, and the edge matrix has a shape [2, num_edges]. This format is computationally efficient for large, sparse graphs. Edges allow GNNs to propagate information between connected nodes, capturing molecular relationships and structure."
   ]
  },
  {
   "cell_type": "code",
   "execution_count": 5,
   "metadata": {
    "scrolled": true
   },
   "outputs": [
    {
     "data": {
      "text/plain": [
       "tensor([[ 0,  1],\n",
       "        [ 1,  0],\n",
       "        [ 1,  2],\n",
       "        [ 2,  1],\n",
       "        [ 2,  3],\n",
       "        [ 2, 30],\n",
       "        [ 3,  2],\n",
       "        [ 3,  4],\n",
       "        [ 4,  3],\n",
       "        [ 4,  5],\n",
       "        [ 4, 26],\n",
       "        [ 5,  4],\n",
       "        [ 5,  6],\n",
       "        [ 6,  5],\n",
       "        [ 6,  7],\n",
       "        [ 7,  6],\n",
       "        [ 7,  8],\n",
       "        [ 7, 24],\n",
       "        [ 8,  7],\n",
       "        [ 8,  9],\n",
       "        [ 9,  8],\n",
       "        [ 9, 10],\n",
       "        [ 9, 20],\n",
       "        [10,  9],\n",
       "        [10, 11],\n",
       "        [11, 10],\n",
       "        [11, 12],\n",
       "        [11, 14],\n",
       "        [12, 11],\n",
       "        [12, 13],\n",
       "        [13, 12],\n",
       "        [14, 11],\n",
       "        [14, 15],\n",
       "        [14, 19],\n",
       "        [15, 14],\n",
       "        [15, 16],\n",
       "        [16, 15],\n",
       "        [16, 17],\n",
       "        [17, 16],\n",
       "        [17, 18],\n",
       "        [18, 17],\n",
       "        [18, 19],\n",
       "        [19, 14],\n",
       "        [19, 18],\n",
       "        [20,  9],\n",
       "        [20, 21],\n",
       "        [20, 22],\n",
       "        [21, 20],\n",
       "        [22, 20],\n",
       "        [22, 23],\n",
       "        [22, 24],\n",
       "        [23, 22],\n",
       "        [24,  7],\n",
       "        [24, 22],\n",
       "        [24, 25],\n",
       "        [25, 24],\n",
       "        [26,  4],\n",
       "        [26, 27],\n",
       "        [26, 28],\n",
       "        [27, 26],\n",
       "        [28, 26],\n",
       "        [28, 29],\n",
       "        [28, 30],\n",
       "        [29, 28],\n",
       "        [30,  2],\n",
       "        [30, 28],\n",
       "        [30, 31],\n",
       "        [31, 30]])"
      ]
     },
     "execution_count": 45,
     "metadata": {},
     "output_type": "execute_result"
    }
   ],
   "source": [
    "# Investigating the edges in sparse COO format\n",
    "# Shape: [2, num_edges]\n",
    "# i.e. node 0 is connected to node 1\n",
    "# i.e. node 1 is connected to node 0\n",
    "# i.e. node 1 is connected to node 2\n",
    "# etc.\n",
    "# NOTE: more efficient representation than adjacency matrix\n",
    "data[0].edge_index.t()"
   ]
  },
  {
   "cell_type": "markdown",
   "metadata": {},
   "source": [
    "Each sample in the dataset includes a target value y, the solubility of the corresponding molecule."
   ]
  },
  {
   "cell_type": "code",
   "execution_count": 7,
   "metadata": {},
   "outputs": [
    {
     "data": {
      "text/plain": [
       "tensor([[-0.7700]])"
      ]
     },
     "execution_count": 7,
     "metadata": {},
     "output_type": "execute_result"
    }
   ],
   "source": [
    "data[0].y"
   ]
  },
  {
   "cell_type": "markdown",
   "metadata": {},
   "source": [
    "### The SMILES Feature from ESOL"
   ]
  },
  {
   "cell_type": "markdown",
   "metadata": {},
   "source": [
    "The ESOL dataset includes molecules in the form of SMILES (Simplified Molecular Input Line Entry System) strings, a standard representation for chemical structures. Using RDKit, these SMILES strings are converted into molecular graph representations for visualization and further processing."
   ]
  },
  {
   "cell_type": "code",
   "execution_count": 47,
   "metadata": {},
   "outputs": [
    {
     "data": {
      "text/plain": [
       "'OCC3OC(OCC2OC(OC(C#N)c1ccccc1)C(O)C(O)C2O)C(O)C(O)C3O '"
      ]
     },
     "execution_count": 47,
     "metadata": {},
     "output_type": "execute_result"
    }
   ],
   "source": [
    "data[0][\"smiles\"]"
   ]
  },
  {
   "cell_type": "code",
   "execution_count": 48,
   "metadata": {},
   "outputs": [
    {
     "data": {
      "image/png": "[encoded data removed]",
      "text/plain": [
       "<rdkit.Chem.rdchem.Mol at 0x316c99bd0>"
      ]
     },
     "execution_count": 48,
     "metadata": {},
     "output_type": "execute_result"
    }
   ],
   "source": [
    "from rdkit import Chem\n",
    "from rdkit.Chem.Draw import IPythonConsole\n",
    "molecule = Chem.MolFromSmiles(data[0][\"smiles\"])\n",
    "molecule"
   ]
  },
  {
   "cell_type": "markdown",
   "metadata": {},
   "source": [
    "## Graph Neural Network"
   ]
  },
  {
   "cell_type": "markdown",
   "metadata": {},
   "source": [
    "### What type of problem can be solved by Graph Neural Network?"
   ]
  },
  {
   "cell_type": "markdown",
   "metadata": {},
   "source": [
    "Graph neural network utilizes the advantange of graph data structure to learn from graph-structured data, specially the connectivity and how information can be stored in all three components of graph, namely graph, nodes and edges. It is a powerful tool for learning from molecular data.\n",
    "\n",
    "Typically, there are three types of problems that can be solved by graph neural network:\n",
    "\n",
    "- Graph-level prediction: Predict the properties of the whole graph, such as the solubility of an entire molecule.\n",
    "\n",
    "- Node-level prediction: Predict the properties of each node in the graph, such as the atom property of each atom in a molecule. For example, will the atom be in a ring? Will the atom be aromatic? Will the atom's hybridization be sp3? etc.\n",
    "\n",
    "- Edge-level prediction: Predict the properties of each edge in the graph, such as the bond type of each bond in a molecule. For example, will the bond between the carbon and oxygen be a single bond or double bond? Will the bond be conjugated? Will the bond be stereo? etc.\n",
    "\n",
    "\n",
    "Left: Graph-level prediction. Right: Node-level prediction.\n",
    "![gnn_node_graph_prediction](./img//gnn_node_graph_prediction.jpg)"
   ]
  },
  {
   "cell_type": "markdown",
   "metadata": {},
   "source": [
    "Clearly, our task is a **graph-level prediction problem**. We will build a graph neural network to predict the solubility of molecules."
   ]
  },
  {
   "cell_type": "markdown",
   "metadata": {},
   "source": [
    "### Graph Convolutional Network (GCN) Implementation"
   ]
  },
  {
   "cell_type": "markdown",
   "metadata": {},
   "source": [
    "To deeply understand what everything is happening in the code, we will take a look at the source code of the Graph Convolutional Network (GCN) in PyTorch [pytorch_details.ipynb](). Along the way, we will only explain the mathematical and implementation details of the architecture in a high-level way.\n"
   ]
  },
  {
   "cell_type": "markdown",
   "metadata": {},
   "source": [
    "#### Graph Convolutional Network (GCN) \n",
    "\n",
    "The key equation in the forward propagation of a GCN layer can essentially be summarized as follows:\n",
    "\n",
    "$$\\mathbf{X}' = \\hat{\\mathbf{D}}^{-\\frac{1}{2}} \\hat{\\mathbf{A}} \\hat{\\mathbf{D}}^{-\\frac{1}{2}} \\mathbf{X} \\Theta,$$\n",
    "\n",
    "where\n",
    "- $\\Theta$ is the weight matrix of the layer, with $\\Theta \\in \\mathbb{R}^{I \\times O}$ where $I$ is the number of input features and $O$ is the number of output features.\n",
    "\n",
    "- $\\mathbf{X} \\in \\mathbb{R}^{N \\times I}$ is the input feature matrix, where $N$ is the number of nodes and $I$ is the number of input features.\n",
    "\n",
    "- $\\hat{\\mathbf{A}} = \\mathbf{A} + \\mathbf{I}$ is the adjacency matrix of the graph with added self-connections.\n",
    "\n",
    "- $\\hat{\\mathbf{D}}$ is the degree matrix of $\\hat{\\mathbf{A}}$ that is normalized. It is a diagonal matrix with $\\hat{D}_{ii} = \\sum_j \\hat{A}_{ij}$. The reason we need to normalized $\\mathbf{A}$ is to prevent nodes with higher degrees (many neighbors) contribute much more to their neighbors' feature aggregation thus dominate the aggregated features."
   ]
  },
  {
   "cell_type": "markdown",
   "metadata": {},
   "source": [
    "![slide_05](./img/slides/slide_05.jpg)"
   ]
  },
  {
   "cell_type": "markdown",
   "metadata": {},
   "source": [
    "For the example above,\n",
    "$$\n",
    "\\hat{\\mathbf{D}}^{-\\frac{1}{2}} \\hat{\\mathbf{A}} \\hat{\\mathbf{D}}^{-\\frac{1}{2}} = \\begin{bmatrix}\n",
    "\\frac{1}{\\sqrt{3}} & 0 & 0 \\\\\n",
    "0 & \\frac{1}{\\sqrt{3}} & 0 \\\\\n",
    "0 & 0 & \\frac{1}{\\sqrt{3}}\n",
    "\\end{bmatrix}\n",
    "\\begin{bmatrix}\n",
    "1 & 1 & 1 \\\\\n",
    "1 & 1 & 1 \\\\\n",
    "1 & 1 & 1\n",
    "\\end{bmatrix}\n",
    "\\begin{bmatrix}\n",
    "\\frac{1}{\\sqrt{3}} & 0 & 0 \\\\\n",
    "0 & \\frac{1}{\\sqrt{3}} & 0 \\\\\n",
    "0 & 0 & \\frac{1}{\\sqrt{3}}\n",
    "\\end{bmatrix}.\n",
    "$$\n",
    "\n",
    "$$\n",
    "= \\begin{bmatrix}\n",
    "\\frac{1}{\\sqrt{3}} & \\frac{1}{\\sqrt{3}} & \\frac{1}{\\sqrt{3}} \\\\\n",
    "\\frac{1}{\\sqrt{3}} & \\frac{1}{\\sqrt{3}} & \\frac{1}{\\sqrt{3}} \\\\\n",
    "\\frac{1}{\\sqrt{3}} & \\frac{1}{\\sqrt{3}} & \\frac{1}{\\sqrt{3}}\n",
    "\\end{bmatrix}\n",
    "\\begin{bmatrix}\n",
    "\\frac{1}{\\sqrt{3}} & 0 & 0 \\\\\n",
    "0 & \\frac{1}{\\sqrt{3}} & 0 \\\\\n",
    "0 & 0 & \\frac{1}{\\sqrt{3}}\n",
    "\\end{bmatrix}\n",
    "= \\begin{bmatrix}\n",
    "\\frac{1}{3} & \\frac{1}{3} & \\frac{1}{3} \\\\\n",
    "\\frac{1}{3} & \\frac{1}{3} & \\frac{1}{3} \\\\\n",
    "\\frac{1}{3} & \\frac{1}{3} & \\frac{1}{3}\n",
    "\\end{bmatrix}.\n",
    "$$\n"
   ]
  },
  {
   "cell_type": "markdown",
   "metadata": {},
   "source": [
    "The normalization factor is computed based on the degree of the nodes. It then applies to each feature of the nodes and aggregate the features of the neighbors. If a node doesn't connect to a node, then it will multiple the feature of that node by 0. This way cleverly utilizes the connectivity of the graph to aggregate the features of the neighbors."
   ]
  },
  {
   "cell_type": "markdown",
   "metadata": {},
   "source": [
    "$$\n",
    "\\hat{\\mathbf{D}}^{-\\frac{1}{2}} \\hat{\\mathbf{A}} \\hat{\\mathbf{D}}^{-\\frac{1}{2}} \\mathbf{X} = \\begin{bmatrix}\n",
    "\\frac{1}{3} & \\frac{1}{3} & \\frac{1}{3} \\\\\n",
    "\\frac{1}{3} & \\frac{1}{3} & \\frac{1}{3} \\\\\n",
    "\\frac{1}{3} & \\frac{1}{3} & \\frac{1}{3}\n",
    "\\end{bmatrix}\n",
    "\\begin{bmatrix}\n",
    "1 & 2 \\\\\n",
    "-3 & 2 \\\\\n",
    "2 & 1\n",
    "\\end{bmatrix}.\n",
    "$$\n",
    "\n",
    "$$\n",
    "=\\begin{bmatrix}\n",
    "\\frac{1}{3} \\cdot 1 + \\frac{1}{3} \\cdot -3 + \\frac{1}{3} \\cdot 2  & \\frac{1}{3} \\cdot 2 + \\frac{1}{3} \\cdot 2 + \\frac{1}{3} \\cdot 1 \\\\\n",
    "\\frac{1}{3} \\cdot 1 + \\frac{1}{3} \\cdot -3 + \\frac{1}{3} \\cdot 2  & \\frac{1}{3} \\cdot 2 + \\frac{1}{3} \\cdot 2 + \\frac{1}{3} \\cdot 1 \\\\\n",
    "\\frac{1}{3} \\cdot 1 + \\frac{1}{3} \\cdot -3 + \\frac{1}{3} \\cdot 2  & \\frac{1}{3} \\cdot 2 + \\frac{1}{3} \\cdot 2 + \\frac{1}{3} \\cdot 1 \n",
    "\\end{bmatrix}\n",
    "$$\n",
    "\n",
    "$$\n",
    "=\\begin{bmatrix}\n",
    "0 & \\frac{5}{3} \\\\\n",
    "0 & \\frac{5}{3} \\\\\n",
    "0 & \\frac{5}{3}\n",
    "\\end{bmatrix}\n",
    "$$"
   ]
  },
  {
   "cell_type": "markdown",
   "metadata": {},
   "source": [
    "It then mapped $\\mathbb{X}$ to a higher dimension space by multiplying the weight matrix $\\Theta$."
   ]
  },
  {
   "cell_type": "markdown",
   "metadata": {},
   "source": [
    "\n",
    "$$\n",
    "\\mathbf{X} \\cdot \\Theta = \\begin{bmatrix}\n",
    "0 \\cdot w_{00} + \\frac{5}{3} \\cdot w_{10} & 0 \\cdot w_{01} + \\frac{5}{3} \\cdot w_{11} & 0 \\cdot w_{02} + \\frac{5}{3} \\cdot w_{12} & 0 \\cdot w_{03} + \\frac{5}{3} \\cdot w_{13} & 0 \\cdot w_{04} + \\frac{5}{3} \\cdot w_{14} & 0 \\cdot w_{05} + \\frac{5}{3} \\cdot w_{15} \\\\\n",
    "0 \\cdot w_{00} + \\frac{5}{3} \\cdot w_{10} & 0 \\cdot w_{01} + \\frac{5}{3} \\cdot w_{11} & 0 \\cdot w_{02} + \\frac{5}{3} \\cdot w_{12} & 0 \\cdot w_{03} + \\frac{5}{3} \\cdot w_{13} & 0 \\cdot w_{04} + \\frac{5}{3} \\cdot w_{14} & 0 \\cdot w_{05} + \\frac{5}{3} \\cdot w_{15} \\\\\n",
    "0 \\cdot w_{00} + \\frac{5}{3} \\cdot w_{10} & 0 \\cdot w_{01} + \\frac{5}{3} \\cdot w_{11} & 0 \\cdot w_{02} + \\frac{5}{3} \\cdot w_{12} & 0 \\cdot w_{03} + \\frac{5}{3} \\cdot w_{13} & 0 \\cdot w_{04} + \\frac{5}{3} \\cdot w_{14} & 0 \\cdot w_{05} + \\frac{5}{3} \\cdot w_{15} \\\\\n",
    "\\end{bmatrix}\n",
    "$$"
   ]
  },
  {
   "cell_type": "markdown",
   "metadata": {},
   "source": [
    "Here we chose the embedding size to be 6 for demonstration. In our model, we will use 64 as the embedding size, which is the number of columns in the weight matrix $\\Theta$.\n",
    "\n"
   ]
  },
  {
   "cell_type": "markdown",
   "metadata": {},
   "source": [
    "A global pooling layer combines max and mean pooling to aggregate node features into a graph-level representation, which is passed through a linear layer to predict the solubility value."
   ]
  },
  {
   "cell_type": "code",
   "execution_count": 49,
   "metadata": {},
   "outputs": [],
   "source": [
    "import torch\n",
    "from torch.nn import Linear\n",
    "import torch.nn.functional as F\n",
    "from torch_geometric.nn import GCNConv, TopKPooling, global_mean_pool\n",
    "from torch_geometric.nn import global_mean_pool as gap, global_max_pool as gmp\n",
    "embedding_size = 64\n",
    "\n",
    "class GCN(torch.nn.Module):\n",
    "  def __init__(self):\n",
    "    # Init parent\n",
    "    super(GCN, self).__init__()\n",
    "    torch.manual_seed(197)\n",
    "\n",
    "    # GCN layers\n",
    "    self.initial_conv = GCNConv(data.num_features, embedding_size)\n",
    "    self.conv1 = GCNConv(embedding_size, embedding_size)\n",
    "    self.conv2 = GCNConv(embedding_size, embedding_size)\n",
    "    self.conv3 = GCNConv(embedding_size, embedding_size)\n",
    "\n",
    "    # Output layer\n",
    "    self.out = Linear(embedding_size*2, data.y.shape[1]) # output shape 1 = regression\n",
    "    # twice the size for accomodating the global pooling layer\n",
    "\n",
    "  def forward(self, x, edge_index, batch_index):\n",
    "    # First Conv layer\n",
    "    hidden = self.initial_conv(x, edge_index)\n",
    "    hidden = F.tanh(hidden) # activation function\n",
    "\n",
    "    # Other Conv layers\n",
    "    hidden = self.conv1(hidden, edge_index)\n",
    "    hidden = F.tanh(hidden)\n",
    "    hidden = self.conv2(hidden, edge_index)\n",
    "    hidden = F.tanh(hidden)\n",
    "    hidden = self.conv3(hidden, edge_index)\n",
    "    hidden = F.tanh(hidden)\n",
    "\n",
    "    # Global Pooling Layer (stack different aggregations)\n",
    "    hidden = torch.cat([gmp(hidden, batch_index), \n",
    "                        gap(hidden, batch_index)], dim=1)\n",
    "    # gmp = global max pooling\n",
    "    # gap = gloabl average pooling\n",
    "    # batch_index is used to select the relavent nodes for the pooling operation\n",
    "\n",
    "    # Apply a final (linear) classifier.\n",
    "    out = self.out(hidden)\n",
    "\n",
    "    return out, hidden"
   ]
  },
  {
   "cell_type": "markdown",
   "metadata": {},
   "source": [
    "### Graph Pooling\n",
    "\n",
    "Aggregate all information of the final graph\n",
    "\n",
    "![graph_pooling](./img/gnn_global_pooling.jpg)"
   ]
  },
  {
   "cell_type": "markdown",
   "metadata": {},
   "source": [
    "## Model Summary and Parameter Count"
   ]
  },
  {
   "cell_type": "markdown",
   "metadata": {},
   "source": [
    "The GCN model comprises an initial convolutional layer, three additional GCN layers, and a linear output layer, resulting in 107,806 parameters. This design balances complexity and computational efficiency, ensuring the model is expressive enough to capture molecular graph features while remaining practical for training."
   ]
  },
  {
   "cell_type": "code",
   "execution_count": 50,
   "metadata": {},
   "outputs": [
    {
     "name": "stdout",
     "output_type": "stream",
     "text": [
      "1\n"
     ]
    }
   ],
   "source": [
    "print(data.y.shape[1])"
   ]
  },
  {
   "cell_type": "code",
   "execution_count": 51,
   "metadata": {},
   "outputs": [
    {
     "name": "stdout",
     "output_type": "stream",
     "text": [
      "GCN(\n",
      "  (initial_conv): GCNConv(9, 64)\n",
      "  (conv1): GCNConv(64, 64)\n",
      "  (conv2): GCNConv(64, 64)\n",
      "  (conv3): GCNConv(64, 64)\n",
      "  (out): Linear(in_features=128, out_features=1, bias=True)\n",
      ")\n",
      "Model parameters:  13249\n"
     ]
    }
   ],
   "source": [
    "model = GCN()\n",
    "print(model)\n",
    "print(\"Model parameters: \", sum(p.numel() for p in model.parameters()))"
   ]
  },
  {
   "cell_type": "markdown",
   "metadata": {},
   "source": [
    "## Training the GNN"
   ]
  },
  {
   "cell_type": "markdown",
   "metadata": {},
   "source": [
    "### Batching with Graphs\n",
    "\n",
    "Concatenate all node features in a large matrix. Combine each individual adjacency information into a large adjacency matrix or list.\n",
    "\n",
    "NOTE: each individual graph is disconnected in the adjacency matrix, thus no information is shared between graphs.\n",
    "\n",
    "![graph_batching](./img/gnn_batching.jpg)"
   ]
  },
  {
   "cell_type": "markdown",
   "metadata": {},
   "source": [
    "The GNN is trained using the root MSE as the loss function and the Adam optimizer with a learning rate of 0.0007. The model is moved to a GPU if available, and the dataset is split 80:20 into training and testing sets. A DataLoader batches 64 graphs at a time, shuffling the data to ensure effective training."
   ]
  },
  {
   "cell_type": "code",
   "execution_count": 52,
   "metadata": {},
   "outputs": [],
   "source": [
    "from torch_geometric.data import DataLoader\n",
    "import warnings\n",
    "warnings.filterwarnings(\"ignore\")\n",
    "\n",
    "# Root mean squared error\n",
    "loss_fn = torch.nn.MSELoss()\n",
    "optimizer = torch.optim.Adam(model.parameters(), lr=0.0007)\n",
    "\n",
    "# Use GPU for training\n",
    "device = torch.device(\"cuda:0\" if torch.cuda.is_available() else \"cpu\")\n",
    "model = model.to(device)\n",
    "\n",
    "# Wrap data in a data loader\n",
    "data_size = len(data)\n",
    "NUM_GRAPHS_PER_BATCH = 64\n",
    "loader = DataLoader(data[:int(data_size * 0.8)],\n",
    "                    batch_size=NUM_GRAPHS_PER_BATCH,\n",
    "                    shuffle=True) # 20% training\n",
    "\n",
    "test_loader = DataLoader(data[int(data_size * 0.8):],\n",
    "                         batch_size=NUM_GRAPHS_PER_BATCH,\n",
    "                         shuffle=True) # 80% testing"
   ]
  },
  {
   "cell_type": "markdown",
   "metadata": {},
   "source": [
    "The GNN is trained over 2,000 epochs using batches of graphs. For each batch, predictions are made, loss is computed using root mean squared error, and gradients are updated to minimize the loss. The training progress is logged every 100 epochs, showing the model's improvement in solubility prediction."
   ]
  },
  {
   "cell_type": "code",
   "execution_count": 53,
   "metadata": {},
   "outputs": [
    {
     "name": "stdout",
     "output_type": "stream",
     "text": [
      "Start training...\n"
     ]
    },
    {
     "name": "stdout",
     "output_type": "stream",
     "text": [
      "Epoch 0 | Train Loss 2.18645977973938\n",
      "Epoch 100 | Train Loss 0.7082846164703369\n",
      "Epoch 200 | Train Loss 0.7985488772392273\n",
      "Epoch 300 | Train Loss 0.5039166808128357\n",
      "Epoch 400 | Train Loss 1.046067237854004\n",
      "Epoch 500 | Train Loss 0.26778772473335266\n",
      "Epoch 600 | Train Loss 0.6440434455871582\n",
      "Epoch 700 | Train Loss 0.4965696334838867\n",
      "Epoch 800 | Train Loss 0.4896949231624603\n",
      "Epoch 900 | Train Loss 0.3031683564186096\n",
      "Epoch 1000 | Train Loss 0.5666918754577637\n",
      "Epoch 1100 | Train Loss 0.5001586079597473\n",
      "Epoch 1200 | Train Loss 0.20951056480407715\n",
      "Epoch 1300 | Train Loss 0.19144876301288605\n",
      "Epoch 1400 | Train Loss 0.19382454454898834\n",
      "Epoch 1500 | Train Loss 0.20428800582885742\n",
      "Epoch 1600 | Train Loss 0.2662540078163147\n",
      "Epoch 1700 | Train Loss 0.18329177796840668\n",
      "Epoch 1800 | Train Loss 0.153456449508667\n",
      "Epoch 1900 | Train Loss 0.12538152933120728\n"
     ]
    }
   ],
   "source": [
    "def train(data):\n",
    "  # Enumerate over the data\n",
    "  for batch in loader:\n",
    "    # Use GPU\n",
    "    batch.to(device)\n",
    "    # Reset gradients\n",
    "    optimizer.zero_grad()\n",
    "    # Passing the node features and the connection info\n",
    "    pred, embedding = model(batch.x.float(), batch.edge_index, batch.batch)\n",
    "    # Calculating the loss and gradients\n",
    "    loss = torch.sqrt(loss_fn(pred, batch.y))\n",
    "    loss.backward()\n",
    "    # Update using the gradients\n",
    "    optimizer.step()\n",
    "  return loss, embedding\n",
    "\n",
    "print(\"Start training...\")\n",
    "losses = []\n",
    "for epoch in range(2000):\n",
    "  loss, h = train(data)\n",
    "  losses.append(loss)\n",
    "  if epoch % 100 == 0:\n",
    "    print(f\"Epoch {epoch} | Train Loss {loss}\")"
   ]
  },
  {
   "cell_type": "markdown",
   "metadata": {},
   "source": [
    "## Visualizing the Training Loss"
   ]
  },
  {
   "cell_type": "code",
   "execution_count": 54,
   "metadata": {},
   "outputs": [
    {
     "data": {
      "text/plain": [
       "<Axes: >"
      ]
     },
     "execution_count": 54,
     "metadata": {},
     "output_type": "execute_result"
    },
    {
     "data": {
      "image/png": "[encoded data removed]",
      "text/plain": [
       "<Figure size 640x480 with 1 Axes>"
      ]
     },
     "metadata": {},
     "output_type": "display_data"
    }
   ],
   "source": [
    "import seaborn as sns\n",
    "losses_float = [float(loss.cpu().detach().numpy()) for loss in losses]\n",
    "loss_indices = [i for i, l in enumerate(losses_float)]\n",
    "plt = sns.lineplot(x=loss_indices, y=losses_float)\n",
    "plt"
   ]
  },
  {
   "cell_type": "markdown",
   "metadata": {},
   "source": [
    "## Getting a test prediction"
   ]
  },
  {
   "cell_type": "markdown",
   "metadata": {},
   "source": [
    "The model is tested on a batch of data in inference mode, and the real (y_real) and predicted (y_pred) solubility values are extracted and stored in a DataFrame for easy analysis. A scatter plot shows their alignment, with points near the diagonal indicating strong prediction accuracy."
   ]
  },
  {
   "cell_type": "code",
   "execution_count": 55,
   "metadata": {},
   "outputs": [
    {
     "data": {
      "text/html": [
       "<div>\n",
       "<style scoped>\n",
       "    .dataframe tbody tr th:only-of-type {\n",
       "        vertical-align: middle;\n",
       "    }\n",
       "\n",
       "    .dataframe tbody tr th {\n",
       "        vertical-align: top;\n",
       "    }\n",
       "\n",
       "    .dataframe thead th {\n",
       "        text-align: right;\n",
       "    }\n",
       "</style>\n",
       "<table border=\"1\" class=\"dataframe\">\n",
       "  <thead>\n",
       "    <tr style=\"text-align: right;\">\n",
       "      <th></th>\n",
       "      <th>y_real</th>\n",
       "      <th>y_pred</th>\n",
       "    </tr>\n",
       "  </thead>\n",
       "  <tbody>\n",
       "    <tr>\n",
       "      <th>0</th>\n",
       "      <td>-3.790</td>\n",
       "      <td>-3.201251</td>\n",
       "    </tr>\n",
       "    <tr>\n",
       "      <th>1</th>\n",
       "      <td>-4.880</td>\n",
       "      <td>-2.633608</td>\n",
       "    </tr>\n",
       "    <tr>\n",
       "      <th>2</th>\n",
       "      <td>-2.218</td>\n",
       "      <td>-3.296799</td>\n",
       "    </tr>\n",
       "    <tr>\n",
       "      <th>3</th>\n",
       "      <td>-4.900</td>\n",
       "      <td>-4.461855</td>\n",
       "    </tr>\n",
       "    <tr>\n",
       "      <th>4</th>\n",
       "      <td>-0.900</td>\n",
       "      <td>0.959851</td>\n",
       "    </tr>\n",
       "    <tr>\n",
       "      <th>...</th>\n",
       "      <td>...</td>\n",
       "      <td>...</td>\n",
       "    </tr>\n",
       "    <tr>\n",
       "      <th>59</th>\n",
       "      <td>-3.360</td>\n",
       "      <td>-3.739055</td>\n",
       "    </tr>\n",
       "    <tr>\n",
       "      <th>60</th>\n",
       "      <td>-2.220</td>\n",
       "      <td>-3.236182</td>\n",
       "    </tr>\n",
       "    <tr>\n",
       "      <th>61</th>\n",
       "      <td>-2.943</td>\n",
       "      <td>-1.826369</td>\n",
       "    </tr>\n",
       "    <tr>\n",
       "      <th>62</th>\n",
       "      <td>-3.350</td>\n",
       "      <td>-5.849453</td>\n",
       "    </tr>\n",
       "    <tr>\n",
       "      <th>63</th>\n",
       "      <td>-2.000</td>\n",
       "      <td>-3.515806</td>\n",
       "    </tr>\n",
       "  </tbody>\n",
       "</table>\n",
       "<p>64 rows × 2 columns</p>\n",
       "</div>"
      ],
      "text/plain": [
       "    y_real    y_pred\n",
       "0   -3.790 -3.201251\n",
       "1   -4.880 -2.633608\n",
       "2   -2.218 -3.296799\n",
       "3   -4.900 -4.461855\n",
       "4   -0.900  0.959851\n",
       "..     ...       ...\n",
       "59  -3.360 -3.739055\n",
       "60  -2.220 -3.236182\n",
       "61  -2.943 -1.826369\n",
       "62  -3.350 -5.849453\n",
       "63  -2.000 -3.515806\n",
       "\n",
       "[64 rows x 2 columns]"
      ]
     },
     "execution_count": 55,
     "metadata": {},
     "output_type": "execute_result"
    }
   ],
   "source": [
    "import pandas as pd\n",
    "\n",
    "# Analyze the results for one batch\n",
    "test_batch = next(iter(test_loader))\n",
    "with torch.no_grad():\n",
    "  test_batch.to(device)\n",
    "  pred, embed = model(test_batch.x.float(), test_batch.edge_index, test_batch.batch)\n",
    "  df = pd.DataFrame()\n",
    "  df[\"y_real\"] = test_batch.y.tolist()\n",
    "  df[\"y_pred\"] = pred.tolist()\n",
    "\n",
    "df[\"y_real\"] = df[\"y_real\"].apply(lambda row: row[0])\n",
    "df[\"y_pred\"] = df[\"y_pred\"].apply(lambda row: row[0])\n",
    "df"
   ]
  },
  {
   "cell_type": "code",
   "execution_count": 56,
   "metadata": {},
   "outputs": [
    {
     "data": {
      "text/plain": [
       "<Axes: xlabel='y_real', ylabel='y_pred'>"
      ]
     },
     "execution_count": 56,
     "metadata": {},
     "output_type": "execute_result"
    },
    {
     "data": {
      "image/png": "[encoded data removed]",
      "text/plain": [
       "<Figure size 640x480 with 1 Axes>"
      ]
     },
     "metadata": {},
     "output_type": "display_data"
    }
   ],
   "source": [
    "plt = sns.scatterplot(data=df, x=\"y_real\", y=\"y_pred\")\n",
    "plt.set(xlim=(-7, 2))\n",
    "plt.set(ylim=(-7, 2))\n",
    "plt"
   ]
  },
  {
   "cell_type": "markdown",
   "metadata": {},
   "source": [
    "## Improving the model:\n",
    "- Dropouts\n",
    "- Other (more intelligent) Pooling Layers\n",
    "- Global Pooling Layers\n",
    "- Batch Normalization\n",
    "- More MP layers\n",
    "- Other hidden state sizes\n",
    "- Test metrics (test error) and Hyperparameter optimization\n",
    "- ..."
   ]
  }
 ],
 "metadata": {
  "kernelspec": {
   "display_name": "Python 3 (ipykernel)",
   "language": "python",
   "name": "python3"
  },
  "language_info": {
   "codemirror_mode": {
    "name": "ipython",
    "version": 3
   },
   "file_extension": ".py",
   "mimetype": "text/x-python",
   "name": "python",
   "nbconvert_exporter": "python",
   "pygments_lexer": "ipython3",
   "version": "3.12.3"
  }
 },
 "nbformat": 4,
 "nbformat_minor": 2
}

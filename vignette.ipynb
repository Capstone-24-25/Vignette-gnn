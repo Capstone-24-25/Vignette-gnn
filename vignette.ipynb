{
 "cells": [
  {
   "cell_type": "markdown",
   "metadata": {},
   "source": [
    "# Graph"
   ]
  },
  {
   "cell_type": "markdown",
   "metadata": {},
   "source": [
    "## What is Graph?\n",
    "\n",
    "Graph is an **abstract data structure** in computer science\n",
    "\n",
    "> “A set of objects, and the connections between them, are naturally expressed as a graph”\n",
    "\n",
    "<img src=\"./img/graphs.jpg\" alt=\"drawing\" width=\"300\" height=\"400\"/>"
   ]
  },
  {
   "cell_type": "markdown",
   "metadata": {},
   "source": [
    "### How to Represent Graph?\n",
    "\n",
    "#### 1. Adjacency List\n",
    "\n"
   ]
  },
  {
   "cell_type": "markdown",
   "metadata": {},
   "source": []
  }
 ],
 "metadata": {
  "language_info": {
   "name": "python"
  }
 },
 "nbformat": 4,
 "nbformat_minor": 2
}
